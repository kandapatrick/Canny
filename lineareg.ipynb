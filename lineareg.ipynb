{
  "nbformat": 4,
  "nbformat_minor": 0,
  "metadata": {
    "colab": {
      "provenance": [],
      "authorship_tag": "ABX9TyOCVl3JkNo/E7MWmBja8RSV",
      "include_colab_link": true
    },
    "kernelspec": {
      "name": "python3",
      "display_name": "Python 3"
    },
    "language_info": {
      "name": "python"
    }
  },
  "cells": [
    {
      "cell_type": "markdown",
      "metadata": {
        "id": "view-in-github",
        "colab_type": "text"
      },
      "source": [
        "<a href=\"https://colab.research.google.com/github/kandapatrick/Canny/blob/master/lineareg.ipynb\" target=\"_parent\"><img src=\"https://colab.research.google.com/assets/colab-badge.svg\" alt=\"Open In Colab\"/></a>"
      ]
    },
    {
      "cell_type": "code",
      "execution_count": 1,
      "metadata": {
        "id": "IxKe4wctYZbM"
      },
      "outputs": [],
      "source": [
        "import numpy as np\n",
        "from sklearn.datasets import make_regression\n",
        "import matplotlib.pyplot as plt"
      ]
    },
    {
      "cell_type": "code",
      "source": [
        "np.random.seed(0) # allow to do aléatoire\n",
        "\n",
        "x, y = make_regression(n_samples=100, n_features=1, noise = 10) # creation of the  dataset (x, y) linéaire\n",
        "y = y + abs(y/2) # modifying the value of y to make the dataset non-linéaire\n",
        "\n",
        "plt.scatter(x, y) # result of. x in abscisse and y in ordor "
      ],
      "metadata": {
        "colab": {
          "base_uri": "https://localhost:8080/",
          "height": 283
        },
        "id": "O4vSVpVmYm0Y",
        "outputId": "380c3a71-74dd-4707-8f9e-4dd95699da98"
      },
      "execution_count": 2,
      "outputs": [
        {
          "output_type": "execute_result",
          "data": {
            "text/plain": [
              "<matplotlib.collections.PathCollection at 0x7fc5e3d1af70>"
            ]
          },
          "metadata": {},
          "execution_count": 2
        },
        {
          "output_type": "display_data",
          "data": {
            "text/plain": [
              "<Figure size 432x288 with 1 Axes>"
            ],
            "image/png": "[encoded data removed]"
          },
          "metadata": {
            "needs_background": "light"
          }
        }
      ]
    },
    {
      "cell_type": "code",
      "source": [
        "# Verification of the dimensions\n",
        "print(x.shape)\n",
        "print(y.shape)\n",
        "\n",
        "# redimen y\n",
        "y = y.reshape(y.shape[0], 1)\n",
        "print(y.shape)"
      ],
      "metadata": {
        "colab": {
          "base_uri": "https://localhost:8080/"
        },
        "id": "wgPoUtkuZR0d",
        "outputId": "6c4f7e75-3939-4e72-e477-e4e89a32e12a"
      },
      "execution_count": 4,
      "outputs": [
        {
          "output_type": "stream",
          "name": "stdout",
          "text": [
            "(100, 1)\n",
            "(100,)\n",
            "(100, 1)\n"
          ]
        }
      ]
    },
    {
      "cell_type": "code",
      "source": [
        "# Creation of the matric X, in the Biais\n",
        "X = np.hstack((x, np.ones(x.shape)))\n",
        "X = np.hstack((x**2, X)) # add vector x^2 at the left of the matrice X\n",
        "\n",
        "print(X.shape)\n",
        "print(X[:10])"
      ],
      "metadata": {
        "colab": {
          "base_uri": "https://localhost:8080/"
        },
        "id": "ORlaVeNOZbC0",
        "outputId": "00af2947-2525-4f68-fefe-c9eb05d25445"
      },
      "execution_count": 5,
      "outputs": [
        {
          "output_type": "stream",
          "name": "stdout",
          "text": [
            "(100, 3)\n",
            "[[ 0.12927848 -0.35955316  1.        ]\n",
            " [ 0.95382381  0.97663904  1.        ]\n",
            " [ 0.1618788   0.40234164  1.        ]\n",
            " [ 0.66120688 -0.81314628  1.        ]\n",
            " [ 0.78816353 -0.88778575  1.        ]\n",
            " [ 0.19701457  0.44386323  1.        ]\n",
            " [ 0.95507205 -0.97727788  1.        ]\n",
            " [ 0.18346819  0.42833187  1.        ]\n",
            " [ 0.04337847  0.20827498  1.        ]\n",
            " [ 0.09706498 -0.31155253  1.        ]]\n"
          ]
        }
      ]
    },
    {
      "cell_type": "code",
      "source": [
        "# Initialisation of vector theta aléatoire, with 3 éléments (because X has3  column)\n",
        "theta = np.random.randn(3, 1)\n",
        "theta"
      ],
      "metadata": {
        "colab": {
          "base_uri": "https://localhost:8080/"
        },
        "id": "hfsLOpfXZxtw",
        "outputId": "c8e0f70d-545d-49bd-a2de-4198a6b0e3ca"
      },
      "execution_count": 6,
      "outputs": [
        {
          "output_type": "execute_result",
          "data": {
            "text/plain": [
              "array([[-0.63743703],\n",
              "       [-0.39727181],\n",
              "       [-0.13288058]])"
            ]
          },
          "metadata": {},
          "execution_count": 6
        }
      ]
    },
    {
      "cell_type": "code",
      "source": [
        "def model(X, theta):\n",
        "    return X.dot(theta)"
      ],
      "metadata": {
        "id": "GwRCNqF6Z3p1"
      },
      "execution_count": 7,
      "outputs": []
    },
    {
      "cell_type": "code",
      "source": [
        "plt.scatter(x, y)\n",
        "plt.scatter(x, model(X, theta), c='r')"
      ],
      "metadata": {
        "colab": {
          "base_uri": "https://localhost:8080/",
          "height": 283
        },
        "id": "MGSHAcA5Z-yQ",
        "outputId": "4a4aa02b-49f1-40fa-d973-978a8f6d0d3a"
      },
      "execution_count": 8,
      "outputs": [
        {
          "output_type": "execute_result",
          "data": {
            "text/plain": [
              "<matplotlib.collections.PathCollection at 0x7fc5e3808490>"
            ]
          },
          "metadata": {},
          "execution_count": 8
        },
        {
          "output_type": "display_data",
          "data": {
            "text/plain": [
              "<Figure size 432x288 with 1 Axes>"
            ],
            "image/png": "[encoded data removed]"
          },
          "metadata": {
            "needs_background": "light"
          }
        }
      ]
    },
    {
      "cell_type": "code",
      "source": [
        "def cost_function(X, y, theta):\n",
        "    m = len(y)\n",
        "    return 1/(2*m) * np.sum((model(X, theta) - y)**2)"
      ],
      "metadata": {
        "id": "u7oPK-_0aIKJ"
      },
      "execution_count": 9,
      "outputs": []
    },
    {
      "cell_type": "code",
      "source": [
        "cost_function(X, y, theta)"
      ],
      "metadata": {
        "colab": {
          "base_uri": "https://localhost:8080/"
        },
        "id": "Mni07HPOaOIM",
        "outputId": "9e41d3d7-f724-4afb-ea8d-bbe1b5717be4"
      },
      "execution_count": 10,
      "outputs": [
        {
          "output_type": "execute_result",
          "data": {
            "text/plain": [
              "1328.6654828872622"
            ]
          },
          "metadata": {},
          "execution_count": 10
        }
      ]
    },
    {
      "cell_type": "code",
      "source": [
        "def grad(X, y, theta):\n",
        "    m = len(y)\n",
        "    return 1/m * X.T.dot(model(X, theta) - y)"
      ],
      "metadata": {
        "id": "8I1CBv99aUwd"
      },
      "execution_count": 11,
      "outputs": []
    },
    {
      "cell_type": "code",
      "source": [
        "def gradient_descent(X, y, theta, learning_rate, n_iterations):\n",
        "    \n",
        "    cost_history = np.zeros(n_iterations) # creation of table to store the evolution of cout model \n",
        "    for i in range(0, n_iterations):\n",
        "        theta = theta - learning_rate * grad(X, y, theta) # update of the parametre theta (formula of gradient descent)\n",
        "        cost_history[i] = cost_function(X, y, theta) # we save the valeur of i in cost_history[i]\n",
        "        \n",
        "    return theta, cost_history"
      ],
      "metadata": {
        "id": "O2UgXu8rac6W"
      },
      "execution_count": 12,
      "outputs": []
    },
    {
      "cell_type": "code",
      "source": [
        "n_iterations = 1000\n",
        "learning_rate = 0.01\n",
        "\n",
        "theta_final, cost_history = gradient_descent(X, y, theta, learning_rate, n_iterations)\n"
      ],
      "metadata": {
        "id": "8hdrkT4pag8j"
      },
      "execution_count": 13,
      "outputs": []
    },
    {
      "cell_type": "code",
      "source": [
        "theta_final "
      ],
      "metadata": {
        "colab": {
          "base_uri": "https://localhost:8080/"
        },
        "id": "YOQeMtNDarTh",
        "outputId": "a06f0d6c-6bc9-49ae-b727-fbcf1ceea523"
      },
      "execution_count": 14,
      "outputs": [
        {
          "output_type": "execute_result",
          "data": {
            "text/plain": [
              "array([[ 8.60077615],\n",
              "       [42.23116732],\n",
              "       [ 8.18143081]])"
            ]
          },
          "metadata": {},
          "execution_count": 14
        }
      ]
    },
    {
      "cell_type": "code",
      "source": [
        "# création of vector prédictions which has a prédictions of  final model \n",
        "predictions = model(X, theta_final)\n",
        "\n",
        "# print the result rouge for our rapport and  Dataset in bleu)\n",
        "plt.scatter(x, y)\n",
        "plt.scatter(x, predictions, c='r')"
      ],
      "metadata": {
        "colab": {
          "base_uri": "https://localhost:8080/",
          "height": 282
        },
        "id": "_4XjlMmnavdl",
        "outputId": "1428bd0c-1fad-4300-8eb2-7dcb4b267f78"
      },
      "execution_count": 16,
      "outputs": [
        {
          "output_type": "execute_result",
          "data": {
            "text/plain": [
              "<matplotlib.collections.PathCollection at 0x7fc5e376aca0>"
            ]
          },
          "metadata": {},
          "execution_count": 16
        },
        {
          "output_type": "display_data",
          "data": {
            "text/plain": [
              "<Figure size 432x288 with 1 Axes>"
            ],
            "image/png": "[encoded data removed]"
          },
          "metadata": {
            "needs_background": "light"
          }
        }
      ]
    },
    {
      "cell_type": "code",
      "source": [
        "plt.plot(range(n_iterations), cost_history)\n"
      ],
      "metadata": {
        "colab": {
          "base_uri": "https://localhost:8080/",
          "height": 282
        },
        "id": "IUvRi5JCa_bU",
        "outputId": "6c923561-74e4-498b-c48b-7c8dfd2e2d98"
      },
      "execution_count": 17,
      "outputs": [
        {
          "output_type": "execute_result",
          "data": {
            "text/plain": [
              "[<matplotlib.lines.Line2D at 0x7fc5e3739d00>]"
            ]
          },
          "metadata": {},
          "execution_count": 17
        },
        {
          "output_type": "display_data",
          "data": {
            "text/plain": [
              "<Figure size 432x288 with 1 Axes>"
            ],
            "image/png": "[encoded data removed]"
          },
          "metadata": {
            "needs_background": "light"
          }
        }
      ]
    },
    {
      "cell_type": "code",
      "source": [
        "def coef_determination(y, pred):\n",
        "    u = ((y - pred)**2).sum()\n",
        "    v = ((y - y.mean())**2).sum()\n",
        "    return 1 - u/v"
      ],
      "metadata": {
        "id": "-nkHI4jLbLPq"
      },
      "execution_count": 18,
      "outputs": []
    },
    {
      "cell_type": "code",
      "source": [
        "coef_determination(y, predictions)\n"
      ],
      "metadata": {
        "colab": {
          "base_uri": "https://localhost:8080/"
        },
        "id": "3aIxRVETbNh1",
        "outputId": "c501d6df-b197-4dcf-f34e-03d27615fcfd"
      },
      "execution_count": 19,
      "outputs": [
        {
          "output_type": "execute_result",
          "data": {
            "text/plain": [
              "0.9287186469389942"
            ]
          },
          "metadata": {},
          "execution_count": 19
        }
      ]
    },
    {
      "cell_type": "code",
      "source": [
        "np.random.seed(0) # permet de reproduire l'aléatoire\n",
        "\n",
        "x, y = make_regression(n_samples=100, n_features=2, noise = 10) # creation d'un dataset (x, y) linéaire\n",
        "\n",
        "plt.scatter(x[:,0], y) # afficher les résultats. x_1 en abscisse et y en ordonnée"
      ],
      "metadata": {
        "colab": {
          "base_uri": "https://localhost:8080/",
          "height": 286
        },
        "id": "BrIIHzU2bYo4",
        "outputId": "e4d06efc-fe59-44c5-e85f-742fdc2c38b4"
      },
      "execution_count": 20,
      "outputs": [
        {
          "output_type": "execute_result",
          "data": {
            "text/plain": [
              "<matplotlib.collections.PathCollection at 0x7fc5e3698fd0>"
            ]
          },
          "metadata": {},
          "execution_count": 20
        },
        {
          "output_type": "display_data",
          "data": {
            "text/plain": [
              "<Figure size 432x288 with 1 Axes>"
            ],
            "image/png": "[encoded data removed]"
          },
          "metadata": {
            "needs_background": "light"
          }
        }
      ]
    },
    {
      "cell_type": "code",
      "source": [
        "from mpl_toolkits.mplot3d import Axes3D\n",
        "#from matplotlib import pyplot as plt\n",
        "#%matplotlib notebook #activez cette ligne pour manipuler le graph 3D\n",
        "\n",
        "ax = fig.add_subplot(111, projection='3d')\n",
        "#ax = fig.add_subplot(111, projection='3d')\n",
        "\n",
        "#ax = fig.add_subplot(1, 2, 2, projection='3d')\n",
        "\n",
        "\n",
        "ax.scatter(x[:,0], x[:,1], y) # affiche en 3D la variable x_1, x_2, et la target y\n",
        "\n",
        "# affiche les noms des axes\n",
        "ax.set_xlabel('x_1')\n",
        "ax.set_ylabel('x_2')\n",
        "ax.set_zlabel('y')"
      ],
      "metadata": {
        "colab": {
          "base_uri": "https://localhost:8080/"
        },
        "id": "B-14XbxSbbmt",
        "outputId": "93e157bb-11ce-4c95-bb71-910de36f64e0"
      },
      "execution_count": 31,
      "outputs": [
        {
          "output_type": "execute_result",
          "data": {
            "text/plain": [
              "Text(0.5, 0, 'y')"
            ]
          },
          "metadata": {},
          "execution_count": 31
        }
      ]
    },
    {
      "cell_type": "code",
      "source": [
        "# Verification des dimensions\n",
        "print(x.shape)\n",
        "print(y.shape)\n",
        "\n",
        "# redimensionner y\n",
        "y = y.reshape(y.shape[0], 1)\n",
        "print(y.shape)"
      ],
      "metadata": {
        "colab": {
          "base_uri": "https://localhost:8080/"
        },
        "id": "Y3vP2YX2chfh",
        "outputId": "868f2deb-1540-4a80-cc75-d4306b0aee83"
      },
      "execution_count": 32,
      "outputs": [
        {
          "output_type": "stream",
          "name": "stdout",
          "text": [
            "(100, 2)\n",
            "(100, 1)\n",
            "(100, 1)\n"
          ]
        }
      ]
    },
    {
      "cell_type": "code",
      "source": [
        "# Création de la matrice X, inclut le Biais\n",
        "X = np.hstack((x, np.ones((x.shape[0], 1)))) # ajoute un vecteur Biais de dimension (x.shape[0], 1)\n",
        "\n",
        "print(X.shape)\n",
        "print(X[:10])"
      ],
      "metadata": {
        "colab": {
          "base_uri": "https://localhost:8080/"
        },
        "id": "_jQJxZZIckT5",
        "outputId": "a1c6e26a-4e67-448a-a7d5-c352d793445c"
      },
      "execution_count": 24,
      "outputs": [
        {
          "output_type": "stream",
          "name": "stdout",
          "text": [
            "(100, 3)\n",
            "[[ 1.05445173 -1.07075262  1.        ]\n",
            " [-0.36274117 -0.63432209  1.        ]\n",
            " [-0.85409574  0.3130677   1.        ]\n",
            " [ 1.3263859   0.29823817  1.        ]\n",
            " [-0.4615846  -1.31590741  1.        ]\n",
            " [ 1.94362119 -1.17312341  1.        ]\n",
            " [-1.60205766  0.62523145  1.        ]\n",
            " [-0.40178094  0.17742614  1.        ]\n",
            " [-0.97727788  1.86755799  1.        ]\n",
            " [ 0.37816252  0.15494743  1.        ]]\n"
          ]
        }
      ]
    },
    {
      "cell_type": "code",
      "source": [
        "n_iterations = 1000\n",
        "learning_rate = 0.01\n",
        "\n",
        "theta_final, cost_history = gradient_descent(X, y, theta, learning_rate, n_iterations)"
      ],
      "metadata": {
        "id": "e_daseaCcv43"
      },
      "execution_count": 25,
      "outputs": []
    },
    {
      "cell_type": "code",
      "source": [
        "# création d'un vecteur prédictions qui contient les prédictions de notre modele final\n",
        "predictions = model(X, theta_final)\n",
        "\n",
        "theta_final"
      ],
      "metadata": {
        "colab": {
          "base_uri": "https://localhost:8080/"
        },
        "id": "nJgwemjQc02Z",
        "outputId": "72f2bf26-abec-46bd-ba21-7fc9b2c110e3"
      },
      "execution_count": 26,
      "outputs": [
        {
          "output_type": "execute_result",
          "data": {
            "text/plain": [
              "array([[28.67154299],\n",
              "       [97.29521689],\n",
              "       [-0.5114807 ]])"
            ]
          },
          "metadata": {},
          "execution_count": 26
        }
      ]
    },
    {
      "cell_type": "code",
      "source": [
        "fig = plt.figure()\n",
        "ax = fig.add_subplot(111, projection='3d')\n",
        "\n",
        "ax.scatter(x[:,0], x[:,1], y)\n",
        "ax.scatter(x[:,0], x[:,1], predictions)"
      ],
      "metadata": {
        "colab": {
          "base_uri": "https://localhost:8080/",
          "height": 265
        },
        "id": "TZDnbd8Pc5X5",
        "outputId": "b6e9cb48-0f93-457f-931d-c75a836607d7"
      },
      "execution_count": 27,
      "outputs": [
        {
          "output_type": "execute_result",
          "data": {
            "text/plain": [
              "<mpl_toolkits.mplot3d.art3d.Path3DCollection at 0x7fc5e367cf70>"
            ]
          },
          "metadata": {},
          "execution_count": 27
        },
        {
          "output_type": "display_data",
          "data": {
            "text/plain": [
              "<Figure size 432x288 with 1 Axes>"
            ],
            "image/png": "[encoded data removed]"
          },
          "metadata": {
            "needs_background": "light"
          }
        }
      ]
    },
    {
      "cell_type": "code",
      "source": [
        "plt.plot(range(n_iterations), cost_history)\n"
      ],
      "metadata": {
        "colab": {
          "base_uri": "https://localhost:8080/",
          "height": 282
        },
        "id": "ejuZChU5dCTB",
        "outputId": "d7dd04c4-f1d3-4327-b06b-d49e5856abbc"
      },
      "execution_count": 28,
      "outputs": [
        {
          "output_type": "execute_result",
          "data": {
            "text/plain": [
              "[<matplotlib.lines.Line2D at 0x7fc5e0df35b0>]"
            ]
          },
          "metadata": {},
          "execution_count": 28
        },
        {
          "output_type": "display_data",
          "data": {
            "text/plain": [
              "<Figure size 432x288 with 1 Axes>"
            ],
            "image/png": "[encoded data removed]"
          },
          "metadata": {
            "needs_background": "light"
          }
        }
      ]
    },
    {
      "cell_type": "code",
      "source": [
        "coef_determination(y, predictions)"
      ],
      "metadata": {
        "colab": {
          "base_uri": "https://localhost:8080/"
        },
        "id": "3sZFEtTqdKKd",
        "outputId": "972125b7-b4ef-44b8-8d5d-550f7496a57f"
      },
      "execution_count": 29,
      "outputs": [
        {
          "output_type": "execute_result",
          "data": {
            "text/plain": [
              "0.9916687122072254"
            ]
          },
          "metadata": {},
          "execution_count": 29
        }
      ]
    }
  ]
}