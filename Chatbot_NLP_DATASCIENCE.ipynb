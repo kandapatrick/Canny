{
  "nbformat": 4,
  "nbformat_minor": 0,
  "metadata": {
    "colab": {
      "provenance": [],
      "authorship_tag": "ABX9TyNEDlhwqEiOHND01+U298JC",
      "include_colab_link": true
    },
    "kernelspec": {
      "name": "python3",
      "display_name": "Python 3"
    },
    "language_info": {
      "name": "python"
    }
  },
  "cells": [
    {
      "cell_type": "markdown",
      "metadata": {
        "id": "view-in-github",
        "colab_type": "text"
      },
      "source": [
        "<a href=\"https://colab.research.google.com/github/kandapatrick/Canny/blob/master/Chatbot_NLP_DATASCIENCE.ipynb\" target=\"_parent\"><img src=\"https://colab.research.google.com/assets/colab-badge.svg\" alt=\"Open In Colab\"/></a>"
      ]
    },
    {
      "cell_type": "code",
      "execution_count": 19,
      "metadata": {
        "id": "B7FCbiGpIMKs"
      },
      "outputs": [],
      "source": [
        "import re \n",
        "import random "
      ]
    },
    {
      "cell_type": "code",
      "source": [
        "class RuleBot:\n",
        "  #potential Negative Responses\n",
        "  negative_response = (\"no\", \"nope\",\"nah\",\"naw\",\"not\",\"chance\",\"sorry\")\n",
        "  #exit conversation keyword\n",
        "  exit_command =(\"quit\",\"pause\",\"exit\",\"goodbaye\",\"bye\",\"later\")\n",
        "  #random start question \n",
        "  random_question = (\"why are you here\",\"are there many humans like you?\", \n",
        "                     \"what do you consumes for sustanance? \", \n",
        "                     \"is there intlligent on the planet?\",\n",
        "                     \"does earts have a leader?\", \n",
        "                     \"what planets have you visited?\", \n",
        "                     \"what technolgies have on this planet?\",\n",
        "                     \"who created does technologie?\", \n",
        "                    \"in which years does technolgies was created?\"\n",
        "                    )\n",
        "  def __init__(self):\n",
        "    self.alllenbabble ={\"describe_planet\":r\".*\\s*your planet.*\",\n",
        "                        \"answer_why_intent\":r\"why\\sare.*\",\n",
        "                        \"about_intellipat\":r\".*\\s*intellipast\"\n",
        "        \n",
        "    }\n",
        "  def greet(self):\n",
        "    self.name =input(\"what is your name?\\n\")\n",
        "    will_help =input(\n",
        "        f\"hi {self.name}, I am Rule-bot. will you help me learn about your planet?\\n\")\n",
        "    if will_help in self.negative_response:\n",
        "        print(\"ok, have a nice earth day !\")\n",
        "        return\n",
        "    self.chat()\n",
        "\n",
        "  def make_exit(self, replay):\n",
        "    for command in self.exit_commands:\n",
        "      if replay == command:\n",
        "        print(\"okay, have a nice Earth day!\")\n",
        "        return True\n",
        "  \n",
        "  def chat(self):\n",
        "    replay = input(random.choice(self.random_questions)).lower()\n",
        "    while not self.make_exit(replay):\n",
        "      replay = input(self.match_replay(replay))\n",
        "  \n",
        "  def match_reply(self, replay):\n",
        "    for key, value in self.allenbable.items():\n",
        "      intent = key\n",
        "      regex_pattern = value\n",
        "      found_match =re.match(regex_pattern, replay)\n",
        "      if found_match and intent == \"describe_planet_intent\":\n",
        "        return self.describe_planet_planet()\n",
        "      elif found_match and intent == \"answer_why_intent\":\n",
        "        return self.about_intellipat()\n",
        "      if not found_match:\n",
        "        return self.no_match_intent()\n",
        "  \n",
        "  def describe_planet_intent(self):\n",
        "    responses = (\"my planet is utopia of diverse organism and spacies.\\n\",\n",
        "                 \"I am from opidipus, the capital of Waylade Galaxies .\\n\")\n",
        "    return random.choice(responses)\n",
        "  \n",
        "  def answer_why_intent(self):\n",
        "    responses = (\"I comee in peace \\n\", \"A am here to collect data on your planet and its nhabitants\\n\", \n",
        "                 \"I heard the coffee in good \\n \")\n",
        "    return random.choice(responses)\n",
        "  \n",
        "  def about_intellipat(self):\n",
        "    responses = (\"intellipaat is worls largest to collect educational cmapny \\n\",\n",
        "                 \"intellipaat will make you learn concept in the wolrd\",\n",
        "                 \"intellipaat is where your career and skills grows \\n\")\n",
        "    return random.choice(responses)\n",
        "\n",
        "  def no_match_intent(self):\n",
        "    responses = (\"please tell me more .\\n\", \"tell me more .\\n\", \"why do you say that?\\n\", \n",
        "                 \"I see. can you elaborate?\\n\",\n",
        "                 \"interrsting. can you tell me more? \\n\", \"I see. how do you think ?\\n\",\n",
        "                 \"how do you thsin I feel when you say that? \\n\"\n",
        "                 \"intellipaat is where your career and skills grows \\n\")\n",
        "    return random.choice(responses)\n",
        "\n",
        "AllenBot = RuleBot()\n",
        "AllenBot.greet()\n"
      ],
      "metadata": {
        "id": "nxmg-oOEIt4D"
      },
      "execution_count": null,
      "outputs": []
    }
  ]
}